{
  "nbformat": 4,
  "nbformat_minor": 0,
  "metadata": {
    "colab": {
      "provenance": []
    },
    "kernelspec": {
      "name": "python3",
      "display_name": "Python 3"
    },
    "language_info": {
      "name": "python"
    }
  },
  "cells": [
    {
      "cell_type": "markdown",
      "source": [
        "Import the useful libraries"
      ],
      "metadata": {
        "id": "hnOdypoD3oTT"
      }
    },
    {
      "cell_type": "code",
      "execution_count": null,
      "metadata": {
        "id": "mHY0AeGG3i6w"
      },
      "outputs": [],
      "source": [
        "import numpy as np\n",
        "from sklearn.linear_model import LinearRegression"
      ]
    },
    {
      "cell_type": "code",
      "source": [
        "x = np.array([5, 15, 25, 35, 45, 55]).reshape((-1, 1))\n",
        "y = np.array([5, 20, 14, 32, 22, 38])"
      ],
      "metadata": {
        "id": "U-d7Ph8x3sYD"
      },
      "execution_count": null,
      "outputs": []
    },
    {
      "cell_type": "code",
      "source": [
        "print(x)\n",
        "print(y)"
      ],
      "metadata": {
        "colab": {
          "base_uri": "https://localhost:8080/"
        },
        "id": "Apsflo_W3zWO",
        "outputId": "2952c3b5-9192-45d7-d25c-04b15455f58a"
      },
      "execution_count": null,
      "outputs": [
        {
          "output_type": "stream",
          "name": "stdout",
          "text": [
            "[[ 5]\n",
            " [15]\n",
            " [25]\n",
            " [35]\n",
            " [45]\n",
            " [55]]\n",
            "[ 5 20 14 32 22 38]\n"
          ]
        }
      ]
    },
    {
      "cell_type": "code",
      "source": [
        "model = LinearRegression()"
      ],
      "metadata": {
        "id": "4ifFdipe34hK"
      },
      "execution_count": null,
      "outputs": []
    },
    {
      "cell_type": "code",
      "source": [
        "model.fit(x, y)"
      ],
      "metadata": {
        "colab": {
          "base_uri": "https://localhost:8080/"
        },
        "id": "C5cQvzsB4Api",
        "outputId": "b6a45ca7-bfff-421d-bb6c-41194315e476"
      },
      "execution_count": null,
      "outputs": [
        {
          "output_type": "execute_result",
          "data": {
            "text/plain": [
              "LinearRegression()"
            ]
          },
          "metadata": {},
          "execution_count": 5
        }
      ]
    },
    {
      "cell_type": "code",
      "source": [
        "#OR merge two last times if you want\n",
        "\n",
        "model = LinearRegression().fit(x, y)"
      ],
      "metadata": {
        "id": "4ssVEKwK4I4P"
      },
      "execution_count": null,
      "outputs": []
    },
    {
      "cell_type": "code",
      "source": [
        "r_sq = model.score(x, y)\n",
        "print('coefficient of determination:', r_sq)"
      ],
      "metadata": {
        "colab": {
          "base_uri": "https://localhost:8080/"
        },
        "id": "_8k5URJU4MuC",
        "outputId": "c9a19853-5dfb-4793-fdc7-9545db110841"
      },
      "execution_count": null,
      "outputs": [
        {
          "output_type": "stream",
          "name": "stdout",
          "text": [
            "coefficient of determination: 0.7158756137479542\n"
          ]
        }
      ]
    },
    {
      "cell_type": "code",
      "source": [
        "print('intercept:', model.intercept_)\n",
        "print('slope:', model.coef_)"
      ],
      "metadata": {
        "colab": {
          "base_uri": "https://localhost:8080/"
        },
        "id": "GL622o_x4ZTc",
        "outputId": "aedc1a47-096a-47de-9d79-135c5f615e0b"
      },
      "execution_count": null,
      "outputs": [
        {
          "output_type": "stream",
          "name": "stdout",
          "text": [
            "intercept: 5.633333333333329\n",
            "slope: [0.54]\n"
          ]
        }
      ]
    },
    {
      "cell_type": "code",
      "source": [
        "y_pred = model.predict(x)\n",
        "print('predicted response:', y_pred, sep='\\n')"
      ],
      "metadata": {
        "colab": {
          "base_uri": "https://localhost:8080/"
        },
        "id": "3oUtLZ7r4vK7",
        "outputId": "f6e183ac-7008-4780-c15a-c9b10e7dedb7"
      },
      "execution_count": null,
      "outputs": [
        {
          "output_type": "stream",
          "name": "stdout",
          "text": [
            "predicted response:\n",
            "[ 8.33333333 13.73333333 19.13333333 24.53333333 29.93333333 35.33333333]\n"
          ]
        }
      ]
    },
    {
      "cell_type": "code",
      "source": [
        "y_pred = model.intercept_ + model.coef_ * x\n",
        "print('predicted response:', y_pred, sep='\\n')"
      ],
      "metadata": {
        "colab": {
          "base_uri": "https://localhost:8080/"
        },
        "id": "kyP2FkIr451m",
        "outputId": "9b1c946a-a715-421b-cdf6-6321c323ab1d"
      },
      "execution_count": null,
      "outputs": [
        {
          "output_type": "stream",
          "name": "stdout",
          "text": [
            "predicted response:\n",
            "[[ 8.33333333]\n",
            " [13.73333333]\n",
            " [19.13333333]\n",
            " [24.53333333]\n",
            " [29.93333333]\n",
            " [35.33333333]]\n"
          ]
        }
      ]
    },
    {
      "cell_type": "markdown",
      "source": [
        "Create multiple linear regression"
      ],
      "metadata": {
        "id": "9GvQEgrj5LZN"
      }
    },
    {
      "cell_type": "code",
      "source": [
        "import numpy as np\n",
        "from sklearn.linear_model import LinearRegression\n",
        "\n",
        "x = [[0, 1], [5, 1], [15, 2], [25, 5], [35, 11], [45, 15], [55, 34], [60, 35]]\n",
        "y = [4, 5, 20, 14, 32, 22, 38, 43]\n",
        "x, y = np.array(x), np.array(y)\n",
        "\n",
        "print(x)\n",
        "print(y)"
      ],
      "metadata": {
        "colab": {
          "base_uri": "https://localhost:8080/"
        },
        "id": "Rk9G1hsb5Nts",
        "outputId": "fa3caf6f-1789-4a71-b710-d59a6f560401"
      },
      "execution_count": null,
      "outputs": [
        {
          "output_type": "stream",
          "name": "stdout",
          "text": [
            "[[ 0  1]\n",
            " [ 5  1]\n",
            " [15  2]\n",
            " [25  5]\n",
            " [35 11]\n",
            " [45 15]\n",
            " [55 34]\n",
            " [60 35]]\n",
            "[ 4  5 20 14 32 22 38 43]\n"
          ]
        }
      ]
    },
    {
      "cell_type": "code",
      "source": [
        "model = LinearRegression().fit(x, y)"
      ],
      "metadata": {
        "id": "Sd9DOmnb5VHU"
      },
      "execution_count": null,
      "outputs": []
    },
    {
      "cell_type": "code",
      "source": [
        "r_sq = model.score(x, y)\n",
        "print('coefficient of determination:', r_sq)\n",
        "\n",
        "print('intercept:', model.intercept_)\n",
        "\n",
        "print('slope:', model.coef_)"
      ],
      "metadata": {
        "colab": {
          "base_uri": "https://localhost:8080/"
        },
        "id": "RPAy2Uv_5ZtI",
        "outputId": "4daec35c-4568-44e7-c64e-89c68ad49dab"
      },
      "execution_count": null,
      "outputs": [
        {
          "output_type": "stream",
          "name": "stdout",
          "text": [
            "coefficient of determination: 0.8615939258756775\n",
            "intercept: 5.52257927519819\n",
            "slope: [0.44706965 0.25502548]\n"
          ]
        }
      ]
    },
    {
      "cell_type": "code",
      "source": [
        "y_pred = model.predict(x)\n",
        "print('predicted response:', y_pred, sep='\\n')"
      ],
      "metadata": {
        "colab": {
          "base_uri": "https://localhost:8080/"
        },
        "id": "hFxncKAw5iII",
        "outputId": "06d328a0-b026-4043-cdf9-5c0b944e77e6"
      },
      "execution_count": null,
      "outputs": [
        {
          "output_type": "stream",
          "name": "stdout",
          "text": [
            "predicted response:\n",
            "[ 5.77760476  8.012953   12.73867497 17.9744479  23.97529728 29.4660957\n",
            " 38.78227633 41.27265006]\n"
          ]
        }
      ]
    },
    {
      "cell_type": "code",
      "source": [
        "y_pred = model.intercept_ + np.sum(model.coef_ * x, axis=1)\n",
        "print('predicted response:', y_pred, sep='\\n')"
      ],
      "metadata": {
        "colab": {
          "base_uri": "https://localhost:8080/"
        },
        "id": "8aWsK_IJ5mNr",
        "outputId": "c140beb0-c5a5-4557-ccf5-b76f272c061f"
      },
      "execution_count": null,
      "outputs": [
        {
          "output_type": "stream",
          "name": "stdout",
          "text": [
            "predicted response:\n",
            "[ 5.77760476  8.012953   12.73867497 17.9744479  23.97529728 29.4660957\n",
            " 38.78227633 41.27265006]\n"
          ]
        }
      ]
    },
    {
      "cell_type": "code",
      "source": [
        "x_new = np.arange(10).reshape((-1, 2))\n",
        "print(x_new)\n",
        "\n",
        "y_new = model.predict(x_new)\n",
        "print(y_new)"
      ],
      "metadata": {
        "colab": {
          "base_uri": "https://localhost:8080/"
        },
        "id": "gLIqjCNl5tQY",
        "outputId": "0f0a2867-4c4e-4f34-bcb7-72e0da9c14c6"
      },
      "execution_count": null,
      "outputs": [
        {
          "output_type": "stream",
          "name": "stdout",
          "text": [
            "[[0 1]\n",
            " [2 3]\n",
            " [4 5]\n",
            " [6 7]\n",
            " [8 9]]\n",
            "[ 5.77760476  7.18179502  8.58598528  9.99017554 11.3943658 ]\n"
          ]
        }
      ]
    },
    {
      "cell_type": "markdown",
      "source": [
        "Polynomial Regression"
      ],
      "metadata": {
        "id": "544LhWW46FQA"
      }
    },
    {
      "cell_type": "code",
      "source": [
        "import numpy as np\n",
        "from sklearn.linear_model import LinearRegression\n",
        "from sklearn.preprocessing import PolynomialFeatures"
      ],
      "metadata": {
        "id": "RTR84v-a6H4A"
      },
      "execution_count": null,
      "outputs": []
    },
    {
      "cell_type": "code",
      "source": [
        "x = np.array([5, 15, 25, 35, 45, 55]).reshape((-1, 1))\n",
        "y = np.array([15, 11, 2, 8, 25, 32])"
      ],
      "metadata": {
        "id": "oNbKenw66LW3"
      },
      "execution_count": null,
      "outputs": []
    },
    {
      "cell_type": "markdown",
      "source": [
        "Transform input data\n",
        "\n",
        "This is the new step you need to implement for polynomial regression!\n",
        "\n",
        "As you’ve seen earlier, you need to include 𝑥² (and perhaps other terms) as additional features when implementing polynomial regression."
      ],
      "metadata": {
        "id": "yZ7o_7mA6Qhj"
      }
    },
    {
      "cell_type": "code",
      "source": [
        "transformer = PolynomialFeatures(degree=2, include_bias=False)"
      ],
      "metadata": {
        "id": "52Vpz84J6SPY"
      },
      "execution_count": null,
      "outputs": []
    },
    {
      "cell_type": "code",
      "source": [
        "transformer.fit(x)"
      ],
      "metadata": {
        "colab": {
          "base_uri": "https://localhost:8080/"
        },
        "id": "wb1dm2mE6ZSd",
        "outputId": "b83ca638-43f6-4c32-de39-3124e6039608"
      },
      "execution_count": null,
      "outputs": [
        {
          "output_type": "execute_result",
          "data": {
            "text/plain": [
              "PolynomialFeatures(include_bias=False)"
            ]
          },
          "metadata": {},
          "execution_count": 20
        }
      ]
    },
    {
      "cell_type": "code",
      "source": [
        "x_ = transformer.transform(x)"
      ],
      "metadata": {
        "id": "AADLaR2S6dPb"
      },
      "execution_count": null,
      "outputs": []
    },
    {
      "cell_type": "markdown",
      "source": [
        "Want to shorten the code, replace  last three lines"
      ],
      "metadata": {
        "id": "MX9eRHg36j8Z"
      }
    },
    {
      "cell_type": "code",
      "source": [
        "x_ = PolynomialFeatures(degree=2, include_bias=False).fit_transform(x)"
      ],
      "metadata": {
        "id": "B0-W8x3S6oCL"
      },
      "execution_count": null,
      "outputs": []
    },
    {
      "cell_type": "code",
      "source": [
        "print(x_)"
      ],
      "metadata": {
        "colab": {
          "base_uri": "https://localhost:8080/"
        },
        "id": "h8P_RXol6o4x",
        "outputId": "1b0f4aad-86f7-4616-e802-9b7741a43aea"
      },
      "execution_count": null,
      "outputs": [
        {
          "output_type": "stream",
          "name": "stdout",
          "text": [
            "[[   5.   25.]\n",
            " [  15.  225.]\n",
            " [  25.  625.]\n",
            " [  35. 1225.]\n",
            " [  45. 2025.]\n",
            " [  55. 3025.]]\n"
          ]
        }
      ]
    },
    {
      "cell_type": "code",
      "source": [
        "model = LinearRegression().fit(x_, y)"
      ],
      "metadata": {
        "id": "aCvkda2Y6vB4"
      },
      "execution_count": null,
      "outputs": []
    },
    {
      "cell_type": "code",
      "source": [
        "r_sq = model.score(x_, y)\n",
        "print('coefficient of determination:', r_sq)\n",
        "\n",
        "print('intercept:', model.intercept_)\n",
        "\n",
        "print('coefficients:', model.coef_)"
      ],
      "metadata": {
        "colab": {
          "base_uri": "https://localhost:8080/"
        },
        "id": "E7hbSMrK6y7P",
        "outputId": "4ab01bcf-c21b-438f-a1e6-c3123320ef74"
      },
      "execution_count": null,
      "outputs": [
        {
          "output_type": "stream",
          "name": "stdout",
          "text": [
            "coefficient of determination: 0.8908516262498563\n",
            "intercept: 21.37232142857144\n",
            "coefficients: [-1.32357143  0.02839286]\n"
          ]
        }
      ]
    },
    {
      "cell_type": "markdown",
      "source": [
        "Try with this transformation by including bias"
      ],
      "metadata": {
        "id": "pQij549j7CY-"
      }
    },
    {
      "cell_type": "code",
      "source": [
        "x_ = PolynomialFeatures(degree=2, include_bias=True).fit_transform(x)"
      ],
      "metadata": {
        "id": "Me1ofw7O7Gd5"
      },
      "execution_count": null,
      "outputs": []
    },
    {
      "cell_type": "code",
      "source": [
        "# Step 1: Import packages\n",
        "import numpy as np\n",
        "from sklearn.linear_model import LinearRegression\n",
        "from sklearn.preprocessing import PolynomialFeatures\n",
        "\n",
        "# Step 2a: Provide data\n",
        "x = [[0, 1], [5, 1], [15, 2], [25, 5], [35, 11], [45, 15], [55, 34], [60, 35]]\n",
        "y = [4, 5, 20, 14, 32, 22, 38, 43]\n",
        "x, y = np.array(x), np.array(y)\n",
        "\n",
        "# Step 2b: Transform input data\n",
        "x_ = PolynomialFeatures(degree=2, include_bias=False).fit_transform(x)\n",
        "\n",
        "# Step 3: Create a model and fit it\n",
        "model = LinearRegression().fit(x_, y)\n",
        "\n",
        "# Step 4: Get results\n",
        "r_sq = model.score(x_, y)\n",
        "intercept, coefficients = model.intercept_, model.coef_\n",
        "\n",
        "# Step 5: Predict\n",
        "y_pred = model.predict(x_)\n",
        "\n",
        "print('coefficient of determination:', r_sq)\n",
        "\n",
        "print('intercept:', intercept)\n",
        "\n",
        "print('coefficients:', coefficients, sep='\\n')\n",
        "\n",
        "print('predicted response:', y_pred, sep='\\n')"
      ],
      "metadata": {
        "colab": {
          "base_uri": "https://localhost:8080/"
        },
        "id": "1zrjFFlV7Owm",
        "outputId": "864fb84b-93a5-4adf-dd87-f5f95935aa53"
      },
      "execution_count": null,
      "outputs": [
        {
          "output_type": "stream",
          "name": "stdout",
          "text": [
            "coefficient of determination: 0.9453701449127822\n",
            "intercept: 0.8430556452395876\n",
            "coefficients:\n",
            "[ 2.44828275  0.16160353 -0.15259677  0.47928683 -0.4641851 ]\n",
            "predicted response:\n",
            "[ 0.54047408 11.36340283 16.07809622 15.79139    29.73858619 23.50834636\n",
            " 39.05631386 41.92339046]\n"
          ]
        }
      ]
    }
  ]
}
